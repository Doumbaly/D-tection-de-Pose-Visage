{
  "cells": [
    {
      "cell_type": "markdown",
      "metadata": {
        "id": "view-in-github",
        "colab_type": "text"
      },
      "source": [
        "<a href=\"https://colab.research.google.com/github/Doumbaly/Detection-de-Pose-Visage/blob/main/D%C3%A9tection_de_Pose_et_Visage.ipynb\" target=\"_parent\"><img src=\"https://colab.research.google.com/assets/colab-badge.svg\" alt=\"Open In Colab\"/></a>"
      ]
    },
    {
      "cell_type": "markdown",
      "id": "f8bba996",
      "metadata": {
        "id": "f8bba996"
      },
      "source": [
        "# Détection de Pose et boîte délimitant le visage"
      ]
    },
    {
      "cell_type": "markdown",
      "id": "bb52582f",
      "metadata": {
        "id": "bb52582f"
      },
      "source": [
        "La détection de pose est un domaine d'étude actif dans le domaine de la vision par ordinateur.\n",
        "Dans ce test nous allons couvrir l'une de ces applications de détection et d'estimation de pose à l'aide de l'apprentissage automatique et de certaines des bibliothèques très utiles en python(OpenCV,Mediapipe).\n",
        "\n",
        "L'estimation de pose est une technique de vision par ordinateur pour suivre les mouvements d'une personne ou d'un objet. Ceci est généralement effectué en trouvant l'emplacement des points clés pour les objets donnés.\n",
        "\n",
        "1- Ecrire un programme python qui va générer une vidéo de sortie et produit les informations sous forme de tableau dans un fichier excel"
      ]
    },
    {
      "cell_type": "markdown",
      "id": "fc48efa2",
      "metadata": {
        "id": "fc48efa2"
      },
      "source": [
        "### Bibliothèques utilisées"
      ]
    },
    {
      "cell_type": "code",
      "execution_count": null,
      "id": "9beab655",
      "metadata": {
        "id": "9beab655",
        "outputId": "f52c5e31-43a9-4773-fb8c-8d78848dccef"
      },
      "outputs": [
        {
          "name": "stdout",
          "output_type": "stream",
          "text": [
            "Requirement already satisfied: opencv-contrib-python in c:\\users\\doums\\appdata\\roaming\\python\\python38\\site-packages (4.5.4.60)\n",
            "Requirement already satisfied: numpy>=1.17.3 in c:\\users\\doums\\anaconda3\\lib\\site-packages (from opencv-contrib-python) (1.20.1)\n"
          ]
        }
      ],
      "source": [
        "!pip install opencv-contrib-python"
      ]
    },
    {
      "cell_type": "code",
      "execution_count": null,
      "id": "4a2e61d4",
      "metadata": {
        "id": "4a2e61d4"
      },
      "outputs": [],
      "source": [
        "#!pip install mediapipe opencv-python pandas scikit-learn"
      ]
    },
    {
      "cell_type": "code",
      "execution_count": null,
      "id": "5f8f56ed",
      "metadata": {
        "scrolled": true,
        "id": "5f8f56ed",
        "outputId": "d90c0c27-efe9-4701-cd94-d9a5d6ea1658"
      },
      "outputs": [
        {
          "name": "stdout",
          "output_type": "stream",
          "text": [
            "Requirement already satisfied: mediapipe in c:\\users\\doums\\appdata\\roaming\\python\\python38\\site-packages (0.8.9)\n",
            "Requirement already satisfied: opencv-python in c:\\users\\doums\\anaconda3\\lib\\site-packages (4.5.4.60)\n",
            "Requirement already satisfied: numpy in c:\\users\\doums\\anaconda3\\lib\\site-packages (from mediapipe) (1.20.1)\n",
            "Requirement already satisfied: wheel in c:\\users\\doums\\anaconda3\\lib\\site-packages (from mediapipe) (0.37.0)\n",
            "Requirement already satisfied: protobuf>=3.11.4 in c:\\users\\doums\\anaconda3\\lib\\site-packages (from mediapipe) (3.19.0)\n",
            "Requirement already satisfied: attrs>=19.1.0 in c:\\users\\doums\\anaconda3\\lib\\site-packages (from mediapipe) (21.2.0)\n",
            "Requirement already satisfied: opencv-contrib-python in c:\\users\\doums\\appdata\\roaming\\python\\python38\\site-packages (from mediapipe) (4.5.4.60)\n",
            "Requirement already satisfied: six in c:\\users\\doums\\anaconda3\\lib\\site-packages (from mediapipe) (1.16.0)\n",
            "Requirement already satisfied: matplotlib in c:\\users\\doums\\anaconda3\\lib\\site-packages (from mediapipe) (3.3.4)\n",
            "Requirement already satisfied: absl-py in c:\\users\\doums\\anaconda3\\lib\\site-packages (from mediapipe) (0.15.0)\n",
            "Requirement already satisfied: pillow>=6.2.0 in c:\\users\\doums\\anaconda3\\lib\\site-packages (from matplotlib->mediapipe) (8.4.0)\n",
            "Requirement already satisfied: pyparsing!=2.0.4,!=2.1.2,!=2.1.6,>=2.0.3 in c:\\users\\doums\\anaconda3\\lib\\site-packages (from matplotlib->mediapipe) (3.0.4)\n",
            "Requirement already satisfied: cycler>=0.10 in c:\\users\\doums\\anaconda3\\lib\\site-packages (from matplotlib->mediapipe) (0.11.0)\n",
            "Requirement already satisfied: kiwisolver>=1.0.1 in c:\\users\\doums\\anaconda3\\lib\\site-packages (from matplotlib->mediapipe) (1.3.1)\n",
            "Requirement already satisfied: python-dateutil>=2.1 in c:\\users\\doums\\anaconda3\\lib\\site-packages (from matplotlib->mediapipe) (2.8.2)\n"
          ]
        }
      ],
      "source": [
        "!pip install mediapipe opencv-python"
      ]
    },
    {
      "cell_type": "code",
      "execution_count": null,
      "id": "b56c0faa",
      "metadata": {
        "id": "b56c0faa",
        "outputId": "06c631f9-7d6d-48d8-fd02-d27c54dca874"
      },
      "outputs": [
        {
          "name": "stdout",
          "output_type": "stream",
          "text": [
            "Requirement already satisfied: ffmpeg-python in c:\\users\\doums\\anaconda3\\lib\\site-packages (0.2.0)\n",
            "Requirement already satisfied: future in c:\\users\\doums\\anaconda3\\lib\\site-packages (from ffmpeg-python) (0.18.2)\n"
          ]
        }
      ],
      "source": [
        "!pip install ffmpeg-python"
      ]
    },
    {
      "cell_type": "code",
      "execution_count": null,
      "id": "88280997",
      "metadata": {
        "id": "88280997"
      },
      "outputs": [],
      "source": [
        "import mediapipe as mp\n",
        "import cv2\n",
        "from matplotlib import pyplot as plt"
      ]
    },
    {
      "cell_type": "code",
      "execution_count": null,
      "id": "7ce3c550",
      "metadata": {
        "id": "7ce3c550"
      },
      "outputs": [],
      "source": [
        "# Initialisation des classes\n",
        "mp_drawing = mp.solutions.drawing_utils\n",
        "mp_holistic = mp.solutions.holistic"
      ]
    },
    {
      "cell_type": "code",
      "execution_count": null,
      "id": "11d63f6d",
      "metadata": {
        "id": "11d63f6d"
      },
      "outputs": [],
      "source": [
        "mpFaceDetection = mp.solutions.face_detection\n",
        "mpDraw = mp.solutions.drawing_utils\n",
        "faceDetection = mpFaceDetection.FaceDetection(0.75)"
      ]
    },
    {
      "cell_type": "markdown",
      "id": "e9dec1cf",
      "metadata": {
        "id": "e9dec1cf"
      },
      "source": [
        "## Le modèle"
      ]
    },
    {
      "cell_type": "code",
      "execution_count": null,
      "id": "ab50225b",
      "metadata": {
        "id": "ab50225b",
        "outputId": "ac6cda77-c001-4013-8139-8e8f37bde22f"
      },
      "outputs": [
        {
          "name": "stdout",
          "output_type": "stream",
          "text": [
            "Ignoring empty camera frame.\n"
          ]
        }
      ],
      "source": [
        "import cv2\n",
        "import mediapipe as mp\n",
        "import matplotlib.pyplot as plt\n",
        "import matplotlib\n",
        "import numpy as np\n",
        "import pandas as pd\n",
        "import time\n",
        "\n",
        "mp_drawing = mp.solutions.drawing_utils\n",
        "mp_holistic = mp.solutions.holistic\n",
        "count = 0\n",
        "alldata = []\n",
        "fps_time = 0\n",
        " \n",
        " \n",
        "pose_corps = ['NOSE', 'LEFT_EYE_INNER', 'LEFT_EYE', 'LEFT_EYE_OUTER', 'RIGHT_EYE_INNER', 'RIGHT_EYE', 'RIGHT_EYE_OUTER', 'LEFT_EAR', 'RIGHT_EAR', 'MOUTH_LEFT', 'MOUTH_RIGHT',\n",
        "              'LEFT_SHOULDER', 'RIGHT_SHOULDER', 'LEFT_ELBOW', 'RIGHT_ELBOW', 'LEFT_WRIST', 'RIGHT_WRIST', 'LEFT_PINKY', 'RIGHT_PINKY', 'LEFT_INDEX', 'RIGHT_INDEX', 'LEFT_THUMB',\n",
        "              'RIGHT_THUMB', 'LEFT_HIP', 'RIGHT_HIP', 'LEFT_KNEE', 'RIGHT_KNEE', 'LEFT_ANKLE', 'RIGHT_ANKLE', 'LEFT_HEEL', 'RIGHT_HEEL', 'LEFT_FOOT_INDEX', 'RIGHT_FOOT_INDEX']\n",
        " \n",
        "pose_main = ['WRIST', 'THUMB_CPC', 'THUMB_MCP', 'THUMB_IP', 'THUMB_TIP', 'INDEX_FINGER_MCP', 'INDEX_FINGER_PIP', 'INDEX_FINGER_DIP', 'INDEX_FINGER_TIP', 'MIDDLE_FINGER_MCP',\n",
        "               'MIDDLE_FINGER_PIP', 'MIDDLE_FINGER_DIP', 'MIDDLE_FINGER_TIP', 'RING_FINGER_PIP', 'RING_FINGER_DIP', 'RING_FINGER_TIP',\n",
        "               'RING_FINGER_MCP', 'PINKY_MCP', 'PINKY_PIP', 'PINKY_DIP', 'PINKY_TIP']\n",
        " \n",
        "pose_main_2 = ['WRIST2', 'THUMB_CPC2', 'THUMB_MCP2', 'THUMB_IP2', 'THUMB_TIP2', 'INDEX_FINGER_MCP2', 'INDEX_FINGER_PIP2', 'INDEX_FINGER_DIP2', 'INDEX_FINGER_TIP2', 'MIDDLE_FINGER_MCP2',\n",
        "               'MIDDLE_FINGER_PIP2', 'MIDDLE_FINGER_DIP2', 'MIDDLE_FINGER_TIP2', 'RING_FINGER_PIP2', 'RING_FINGER_DIP2', 'RING_FINGER_TIP2',\n",
        "               'RING_FINGER_MCP2', 'PINKY_MCP2', 'PINKY_PIP2', 'PINKY_DIP2', 'PINKY_TIP2']\n",
        " \n",
        "cap = cv2.VideoCapture('exercising.mp4')\n",
        "suc,frame_video = cap.read()\n",
        "vid_writer = cv2.VideoWriter('video.avi', cv2.VideoWriter_fourcc('M','J','P','G'), 10, (frame_video.shape[1], frame_video.shape[0]))\n",
        "with mp_holistic.Holistic(\n",
        "        min_detection_confidence=0.5,\n",
        "        min_tracking_confidence=0.5) as holistic:\n",
        "    while cap.isOpened():\n",
        "        success, image = cap.read()\n",
        "        if not success:\n",
        "            print(\"Ignoring empty camera frame.\")\n",
        "            #Utiliser 'break' si nous avons une video sinon 'continue'.\n",
        "            #continue\n",
        "            break\n",
        " \n",
        "        # Retournez l'image horizontalement pour un affichage ultérieur en vue selfie et convertion\n",
        "        # BGR image à RGB.\n",
        "        image = cv2.cvtColor(cv2.flip(image, 1), cv2.COLOR_BGR2RGB)\n",
        "        # Pour ameliorer les performances, marquons image.flags.writeable=false\n",
        "        #image.flags.writeable??\n",
        "        image.flags.writeable = False\n",
        "        results = holistic.process(image)\n",
        " \n",
        "        # Annotation de points de repères sur l'image.\n",
        "        image.flags.writeable = False\n",
        "        image = cv2.cvtColor(image, cv2.COLOR_RGB2BGR)\n",
        "        image_asli = np.copy(image)\n",
        "        image = np.zeros(image.shape)\n",
        "        mp_drawing.draw_landmarks(\n",
        "            image, results.left_hand_landmarks, mp_holistic.HAND_CONNECTIONS)\n",
        "        mp_drawing.draw_landmarks(\n",
        "            image, results.right_hand_landmarks, mp_holistic.HAND_CONNECTIONS)\n",
        "        \n",
        "        mp_drawing.draw_landmarks(image, results.pose_landmarks, mp_holistic.POSE_CONNECTIONS,\n",
        "                                 mp_drawing.DrawingSpec(color=(245,117,32), thickness=1, circle_radius=1),\n",
        "                                 mp_drawing.DrawingSpec(color=(245,66,200), thickness=1, circle_radius=1))\n",
        "        \n",
        "          # 1. Draw face landmarks\n",
        "        mp_drawing.draw_landmarks(image, results.face_landmarks, mp_holistic.FACEMESH_CONTOURS, \n",
        "                                 mp_drawing.DrawingSpec(color=(80,12,3), thickness=1, circle_radius=1),\n",
        "                                 mp_drawing.DrawingSpec(color=(80,256,12), thickness=1, circle_radius=1)\n",
        "                                 )\n",
        " \n",
        "      #  Si None:\n",
        "        if results.pose_landmarks: \n",
        "            data_corps = {}\n",
        "            for i in range(len(pose_corps)):\n",
        "                results.pose_landmarks.landmark[i].x = results.pose_landmarks.landmark[i].x * image.shape[0]\n",
        "                results.pose_landmarks.landmark[i].y = results.pose_landmarks.landmark[i].y * image.shape[1]\n",
        "                data_corps.update(\n",
        "                {pose_corps[i] : results.pose_landmarks.landmark[i]}\n",
        "                )\n",
        "            alldata.append(data_corps)\n",
        "        \n",
        "        if results.face_landmarks: \n",
        "            data_corps = {}\n",
        "            for i in range(len(pose_corps)):\n",
        "                results.face_landmarks.landmark[i].x = results.face_landmarks.landmark[i].x * image.shape[0]\n",
        "                results.face_landmarks.landmark[i].y = results.face_landmarks.landmark[i].y * image.shape[1]\n",
        "                data_corps.update(\n",
        "                {pose_corps[i] : results.face_landmarks.landmark[i]}\n",
        "                )\n",
        "            alldata.append(data_corps)\n",
        "        \n",
        "        \n",
        "        \n",
        "        if results.right_hand_landmarks:\n",
        "            data_main_droite = {}\n",
        "            for i in range(len(pose_main)):\n",
        "                results.right_hand_landmarks.landmark[i].x = results.right_hand_landmarks.landmark[i].x * image.shape[0]\n",
        "                results.right_hand_landmarks.landmark[i].y = results.right_hand_landmarks.landmark[i].y * image.shape[1]\n",
        "                data_corps.update(\n",
        "                {pose_main[i] : results.right_hand_landmarks.landmark[i]}\n",
        "                )\n",
        "            alldata.append(data_corps)\n",
        " \n",
        "        if results.left_hand_landmarks:\n",
        "            data_main_gauche  = {}\n",
        "            for i in range(len(pose_main)):\n",
        "                results.left_hand_landmarks.landmark[i].x = results.left_hand_landmarks.landmark[i].x * image.shape[0]\n",
        "                results.left_hand_landmarks.landmark[i].y = results.left_hand_landmarks.landmark[i].y * image.shape[1]\n",
        "                data_corps.update(\n",
        "                {pose_main_2[i] : results.left_hand_landmarks.landmark[i]}\n",
        "                )\n",
        "            alldata.append(data_corps)\n",
        " \n",
        " \n",
        "        #cv2.namedWindow('MediaPipe Holistic', cv2.WND_PROP_qFULLSCREEN)\n",
        "        #cv2.setWindowProperty('MediaPipe Holistic', cv2.WND_PROP_FULLSCREEN, cv2.WINDOW_FULLSCREEN)\n",
        "        cv2.putText(image, \"FPS: %f\" % (1.0 / (time.time() - fps_time)), (10, 10),cv2.FONT_HERSHEY_SIMPLEX, 0.5, (0, 255, 0), 2,)\n",
        "        cv2.imshow('MediaPipe Holistic', image)\n",
        "        cv2.imshow('Gambar asli', image_asli)\n",
        "        count = count + 1\n",
        "        #print(count)\n",
        "        fps_time = time.time()\n",
        "        vid_writer.write(image)\n",
        "        #plt.imshow((image*255).astype(np.uint8))\n",
        "        #plt.savefig(\"image-frame/\" + str(count) + \".jpg\")\n",
        "        if cv2.waitKey(5) & 0xFF == ord('q'):\n",
        "            df = pd.DataFrame(alldata)\n",
        "            df.to_excel(\"point_repere.xlsx\")\n",
        "            break\n",
        "cap.release()\n"
      ]
    },
    {
      "cell_type": "code",
      "execution_count": null,
      "id": "4b3eeb80",
      "metadata": {
        "id": "4b3eeb80"
      },
      "outputs": [],
      "source": [
        "mp_drawing = mp.solutions.drawing_utils\n",
        "mp_holistic = mp.solutions.holistic\n",
        "count = 0\n",
        "alldata = []\n",
        "fps_time = 0"
      ]
    },
    {
      "cell_type": "markdown",
      "id": "a4fae65e",
      "metadata": {
        "id": "a4fae65e"
      },
      "source": [
        "## Les coordonnées de pose, du visage et des mains"
      ]
    },
    {
      "cell_type": "code",
      "execution_count": null,
      "id": "2c69bc72",
      "metadata": {
        "id": "2c69bc72"
      },
      "outputs": [],
      "source": [
        "results.face_landmarks # de repere du visage\n",
        "#results.face_landmarks.landmark"
      ]
    },
    {
      "cell_type": "code",
      "execution_count": null,
      "id": "66798a85",
      "metadata": {
        "id": "66798a85",
        "outputId": "b304fb1d-826d-452c-954f-5acdf95de122"
      },
      "outputs": [
        {
          "data": {
            "text/plain": [
              "[x: 304.8069152832031\n",
              "y: 116.36994171142578\n",
              "z: -0.48211750388145447\n",
              "visibility: 0.9999475479125977\n",
              ", x: 306.9285888671875\n",
              "y: 110.58177947998047\n",
              "z: -0.42382392287254333\n",
              "visibility: 0.999961256980896\n",
              ", x: 313.53631591796875\n",
              "y: 110.66045379638672\n",
              "z: -0.4239772856235504\n",
              "visibility: 0.9999653100967407\n",
              ", x: 320.0529479980469\n",
              "y: 110.84622192382812\n",
              "z: -0.42376285791397095\n",
              "visibility: 0.9999665021896362\n",
              ", x: 284.4000549316406\n",
              "y: 111.42975616455078\n",
              "z: -0.4532322883605957\n",
              "visibility: 0.9999492168426514\n",
              ", x: 272.45538330078125\n",
              "y: 112.11679077148438\n",
              "z: -0.45317551493644714\n",
              "visibility: 0.9999443292617798\n",
              ", x: 260.3934326171875\n",
              "y: 112.96100616455078\n",
              "z: -0.4535560607910156\n",
              "visibility: 0.9999357461929321\n",
              ", x: 319.6290283203125\n",
              "y: 116.6854248046875\n",
              "z: -0.06376425921916962\n",
              "visibility: 0.9999656677246094\n",
              ", x: 235.7295379638672\n",
              "y: 119.58637237548828\n",
              "z: -0.20681503415107727\n",
              "visibility: 0.9999576210975647\n",
              ", x: 320.777099609375\n",
              "y: 126.08522033691406\n",
              "z: -0.34663110971450806\n",
              "visibility: 0.9999194145202637\n",
              ", x: 288.32421875\n",
              "y: 126.68199920654297\n",
              "z: -0.3863830864429474\n",
              "visibility: 0.9998993277549744\n",
              ", x: 400.40594482421875\n",
              "y: 172.13853454589844\n",
              "z: 0.1567426323890686\n",
              "visibility: 0.9998875260353088\n",
              ", x: 143.8847198486328\n",
              "y: 172.93247985839844\n",
              "z: -0.10626669973134995\n",
              "visibility: 0.9994266629219055\n",
              ", x: 439.6711730957031\n",
              "y: 235.89454650878906\n",
              "z: 0.07043912261724472\n",
              "visibility: 0.995413064956665\n",
              ", x: 147.20457458496094\n",
              "y: 242.5788116455078\n",
              "z: -0.659247100353241\n",
              "visibility: 0.995691180229187\n",
              ", x: 542.2381591796875\n",
              "y: 214.82154846191406\n",
              "z: -0.5564000010490417\n",
              "visibility: 0.999628484249115\n",
              ", x: 167.82101440429688\n",
              "y: 223.94529724121094\n",
              "z: -1.4836903810501099\n",
              "visibility: 0.9985349178314209\n",
              ", x: 583.4654541015625\n",
              "y: 210.73985290527344\n",
              "z: -0.6708895564079285\n",
              "visibility: 0.9990355372428894\n",
              ", x: 173.9884796142578\n",
              "y: 214.85153198242188\n",
              "z: -1.612424373626709\n",
              "visibility: 0.9969220757484436\n",
              ", x: 582.2034912109375\n",
              "y: 200.4259490966797\n",
              "z: -0.6987811923027039\n",
              "visibility: 0.9989432692527771\n",
              ", x: 165.1016082763672\n",
              "y: 206.0810546875\n",
              "z: -1.6275715827941895\n",
              "visibility: 0.9967833161354065\n",
              ", x: 564.9834594726562\n",
              "y: 200.89768981933594\n",
              "z: -0.5913320183753967\n",
              "visibility: 0.9989928603172302\n",
              ", x: 169.50567626953125\n",
              "y: 208.26683044433594\n",
              "z: -1.505976915359497\n",
              "visibility: 0.9969159960746765\n",
              ", x: 383.93536376953125\n",
              "y: 304.1873779296875\n",
              "z: 0.07383580505847931\n",
              "visibility: 0.9990459680557251\n",
              ", x: 218.6107635498047\n",
              "y: 305.14984130859375\n",
              "z: -0.07040116935968399\n",
              "visibility: 0.9987463355064392\n",
              ", x: 375.2149963378906\n",
              "y: 393.22833251953125\n",
              "z: 0.02332165837287903\n",
              "visibility: 0.23837921023368835\n",
              ", x: 213.40408325195312\n",
              "y: 395.9351501464844\n",
              "z: 0.1622314453125\n",
              "visibility: 0.254667729139328\n",
              ", x: 375.6361389160156\n",
              "y: 480.1069030761719\n",
              "z: 0.45435866713523865\n",
              "visibility: 0.0029255463741719723\n",
              ", x: 224.68515014648438\n",
              "y: 481.122802734375\n",
              "z: 0.6385216116905212\n",
              "visibility: 0.002794531174004078\n",
              ", x: 377.83514404296875\n",
              "y: 491.5509033203125\n",
              "z: 0.4756401479244232\n",
              "visibility: 0.003970354795455933\n",
              ", x: 217.46798706054688\n",
              "y: 490.89324951171875\n",
              "z: 0.6704238057136536\n",
              "visibility: 0.002568094991147518\n",
              ", x: 369.8315734863281\n",
              "y: 506.2408142089844\n",
              "z: 0.07265090197324753\n",
              "visibility: 0.002690305933356285\n",
              ", x: 259.4000549316406\n",
              "y: 509.44024658203125\n",
              "z: 0.22275331616401672\n",
              "visibility: 0.0015265942784026265\n",
              "]"
            ]
          },
          "execution_count": 20,
          "metadata": {},
          "output_type": "execute_result"
        }
      ],
      "source": [
        "# Pose repères\n",
        "results.pose_landmarks.landmark"
      ]
    },
    {
      "cell_type": "code",
      "execution_count": null,
      "id": "2065422d",
      "metadata": {
        "id": "2065422d",
        "outputId": "ff49ffc2-4243-498d-8f46-2c3e806f24eb"
      },
      "outputs": [
        {
          "data": {
            "text/plain": [
              "[x: 172.09449768066406\n",
              "y: 219.62693786621094\n",
              "z: -1.5830957522666722e-07\n",
              ", x: 152.7646026611328\n",
              "y: 214.26272583007812\n",
              "z: -0.010820234194397926\n",
              ", x: 139.85403442382812\n",
              "y: 205.78402709960938\n",
              "z: -0.02393254078924656\n",
              ", x: 138.7690887451172\n",
              "y: 198.01837158203125\n",
              "z: -0.03535022214055061\n",
              ", x: 147.0047607421875\n",
              "y: 192.92318725585938\n",
              "z: -0.04341942071914673\n",
              ", x: 142.13572692871094\n",
              "y: 208.74014282226562\n",
              "z: -0.03828785941004753\n",
              ", x: 149.13739013671875\n",
              "y: 196.17489624023438\n",
              "z: -0.058234356343746185\n",
              ", x: 150.09942626953125\n",
              "y: 198.69297790527344\n",
              "z: -0.0630224421620369\n",
              ", x: 149.59283447265625\n",
              "y: 202.66041564941406\n",
              "z: -0.06233195587992668\n",
              ", x: 161.6962890625\n",
              "y: 209.8805389404297\n",
              "z: -0.04087994620203972\n",
              ", x: 168.9125213623047\n",
              "y: 195.98223876953125\n",
              "z: -0.058351192623376846\n",
              ", x: 168.1522979736328\n",
              "y: 198.98779296875\n",
              "z: -0.05470721051096916\n",
              ", x: 167.8394775390625\n",
              "y: 203.79200744628906\n",
              "z: -0.0494922436773777\n",
              ", x: 180.80735778808594\n",
              "y: 210.32061767578125\n",
              "z: -0.04365293309092522\n",
              ", x: 185.81716918945312\n",
              "y: 197.21775817871094\n",
              "z: -0.054806750267744064\n",
              ", x: 183.88723754882812\n",
              "y: 200.26736450195312\n",
              "z: -0.04218018427491188\n",
              ", x: 183.3214569091797\n",
              "y: 204.8499755859375\n",
              "z: -0.031706586480140686\n",
              ", x: 198.25045776367188\n",
              "y: 210.3601837158203\n",
              "z: -0.04732906445860863\n",
              ", x: 200.2978515625\n",
              "y: 199.84840393066406\n",
              "z: -0.0508589930832386\n",
              ", x: 197.5321044921875\n",
              "y: 202.24794006347656\n",
              "z: -0.040894489735364914\n",
              ", x: 196.9418487548828\n",
              "y: 206.1881866455078\n",
              "z: -0.03336920216679573\n",
              "]"
            ]
          },
          "execution_count": 23,
          "metadata": {},
          "output_type": "execute_result"
        }
      ],
      "source": [
        "# Main droite repères\n",
        "results.right_hand_landmarks.landmark"
      ]
    }
  ],
  "metadata": {
    "kernelspec": {
      "display_name": "Python 3 (ipykernel)",
      "language": "python",
      "name": "python3"
    },
    "language_info": {
      "codemirror_mode": {
        "name": "ipython",
        "version": 3
      },
      "file_extension": ".py",
      "mimetype": "text/x-python",
      "name": "python",
      "nbconvert_exporter": "python",
      "pygments_lexer": "ipython3",
      "version": "3.8.8"
    },
    "colab": {
      "name": "Détection de Pose et Visage.ipynb",
      "provenance": [],
      "include_colab_link": true
    }
  },
  "nbformat": 4,
  "nbformat_minor": 5
}